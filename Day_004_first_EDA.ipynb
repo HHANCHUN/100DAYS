#!/usr/bin/env python3
# -*- coding: utf-8 -*-
"""
Created on Sat Mar 20 13:03:21 2021

@author: wei-nio
"""
import os
import numpy as np
import pandas as pd
print(os.getcwd())
dir_data='/Users/wei-nio/Desktop/pypra/py100/d4'
f_app=os.path.join(dir_data,'application_train.csv')
print('Path of read in data: %s' % (f_app))
print('f_app=',f_app)
app_train = pd.read_csv(f_app)
print(app_train.head())

"資料的 row 數以及 column 數"
print(app_train.shape)
"列出所有欄位"
print(app_train.columns)
"擷取前三列"
print(app_train.iloc[:3])
"擷取AMT_ANNUITY'>40000的資料欄位"
print(app_train.loc[app_train['AMT_ANNUITY']>40000])
